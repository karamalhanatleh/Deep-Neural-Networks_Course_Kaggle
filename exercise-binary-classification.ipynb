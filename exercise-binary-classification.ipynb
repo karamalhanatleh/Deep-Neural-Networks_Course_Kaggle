{
 "cells": [
  {
   "cell_type": "markdown",
   "metadata": {},
   "source": [
    "**This notebook is an exercise in the [Intro to Deep Learning](https://www.kaggle.com/learn/intro-to-deep-learning) course.  You can reference the tutorial at [this link](https://www.kaggle.com/ryanholbrook/binary-classification).**\n",
    "\n",
    "---\n"
   ]
  },
  {
   "cell_type": "markdown",
   "metadata": {},
   "source": [
    "# Introduction #\n",
    "\n",
    "In this exercise, you'll build a model to predict hotel cancellations with a binary classifier."
   ]
  },
  {
   "cell_type": "code",
   "execution_count": 2,
   "metadata": {
    "execution": {
     "iopub.execute_input": "2023-08-04T13:37:06.120901Z",
     "iopub.status.busy": "2023-08-04T13:37:06.120483Z",
     "iopub.status.idle": "2023-08-04T13:37:06.128592Z",
     "shell.execute_reply": "2023-08-04T13:37:06.127564Z",
     "shell.execute_reply.started": "2023-08-04T13:37:06.120869Z"
    },
    "lines_to_next_cell": 0
   },
   "outputs": [
    {
     "name": "stderr",
     "output_type": "stream",
     "text": [
      "/tmp/ipykernel_28/3338970720.py:3: MatplotlibDeprecationWarning: The seaborn styles shipped by Matplotlib are deprecated since 3.6, as they no longer correspond to the styles shipped by seaborn. However, they will remain available as 'seaborn-v0_8-<style>'. Alternatively, directly use the seaborn API instead.\n",
      "  plt.style.use('seaborn-whitegrid')\n"
     ]
    }
   ],
   "source": [
    "# Setup plotting\n",
    "import matplotlib.pyplot as plt\n",
    "plt.style.use('seaborn-whitegrid')\n",
    "# Set Matplotlib defaults\n",
    "plt.rc('figure', autolayout=True)\n",
    "plt.rc('axes', labelweight='bold', labelsize='large',\n",
    "       titleweight='bold', titlesize=18, titlepad=10)\n",
    "plt.rc('animation', html='html5')\n",
    "\n",
    "# Setup feedback system\n",
    "from learntools.core import binder\n",
    "binder.bind(globals())\n",
    "from learntools.deep_learning_intro.ex6 import *"
   ]
  },
  {
   "cell_type": "markdown",
   "metadata": {},
   "source": [
    "First, load the *Hotel Cancellations* dataset."
   ]
  },
  {
   "cell_type": "code",
   "execution_count": 3,
   "metadata": {
    "execution": {
     "iopub.execute_input": "2023-08-04T13:37:55.894881Z",
     "iopub.status.busy": "2023-08-04T13:37:55.894500Z",
     "iopub.status.idle": "2023-08-04T13:37:58.062767Z",
     "shell.execute_reply": "2023-08-04T13:37:58.061737Z",
     "shell.execute_reply.started": "2023-08-04T13:37:55.894830Z"
    },
    "lines_to_next_cell": 2
   },
   "outputs": [
    {
     "name": "stderr",
     "output_type": "stream",
     "text": [
      "/opt/conda/lib/python3.10/site-packages/scipy/__init__.py:146: UserWarning: A NumPy version >=1.16.5 and <1.23.0 is required for this version of SciPy (detected version 1.23.5\n",
      "  warnings.warn(f\"A NumPy version >={np_minversion} and <{np_maxversion}\"\n"
     ]
    }
   ],
   "source": [
    "import pandas as pd\n",
    "\n",
    "from sklearn.model_selection import train_test_split\n",
    "from sklearn.preprocessing import StandardScaler, OneHotEncoder\n",
    "from sklearn.impute import SimpleImputer\n",
    "from sklearn.pipeline import make_pipeline\n",
    "from sklearn.compose import make_column_transformer\n",
    "\n",
    "hotel = pd.read_csv('../input/dl-course-data/hotel.csv')\n",
    "\n",
    "X = hotel.copy()\n",
    "y = X.pop('is_canceled')\n",
    "\n",
    "X['arrival_date_month'] = \\\n",
    "    X['arrival_date_month'].map(\n",
    "        {'January':1, 'February': 2, 'March':3,\n",
    "         'April':4, 'May':5, 'June':6, 'July':7,\n",
    "         'August':8, 'September':9, 'October':10,\n",
    "         'November':11, 'December':12}\n",
    "    )\n",
    "\n",
    "features_num = [\n",
    "    \"lead_time\", \"arrival_date_week_number\",\n",
    "    \"arrival_date_day_of_month\", \"stays_in_weekend_nights\",\n",
    "    \"stays_in_week_nights\", \"adults\", \"children\", \"babies\",\n",
    "    \"is_repeated_guest\", \"previous_cancellations\",\n",
    "    \"previous_bookings_not_canceled\", \"required_car_parking_spaces\",\n",
    "    \"total_of_special_requests\", \"adr\",\n",
    "]\n",
    "features_cat = [\n",
    "    \"hotel\", \"arrival_date_month\", \"meal\",\n",
    "    \"market_segment\", \"distribution_channel\",\n",
    "    \"reserved_room_type\", \"deposit_type\", \"customer_type\",\n",
    "]\n",
    "\n",
    "transformer_num = make_pipeline(\n",
    "    SimpleImputer(strategy=\"constant\"), # there are a few missing values\n",
    "    StandardScaler(),\n",
    ")\n",
    "transformer_cat = make_pipeline(\n",
    "    SimpleImputer(strategy=\"constant\", fill_value=\"NA\"),\n",
    "    OneHotEncoder(handle_unknown='ignore'),\n",
    ")\n",
    "\n",
    "preprocessor = make_column_transformer(\n",
    "    (transformer_num, features_num),\n",
    "    (transformer_cat, features_cat),\n",
    ")\n",
    "\n",
    "# stratify - make sure classes are evenlly represented across splits\n",
    "X_train, X_valid, y_train, y_valid = \\\n",
    "    train_test_split(X, y, stratify=y, train_size=0.75)\n",
    "\n",
    "X_train = preprocessor.fit_transform(X_train)\n",
    "X_valid = preprocessor.transform(X_valid)\n",
    "\n",
    "input_shape = [X_train.shape[1]]"
   ]
  },
  {
   "cell_type": "markdown",
   "metadata": {},
   "source": [
    "# 1) Define Model #\n",
    "\n",
    "The model we'll use this time will have both batch normalization and dropout layers. To ease reading we've broken the diagram into blocks, but you can define it layer by layer as usual.\n",
    "\n",
    "Define a model with an architecture given by this diagram:\n",
    "\n",
    "<figure style=\"padding: 1em;\">\n",
    "<img src=\"https://storage.googleapis.com/kaggle-media/learn/images/V04o59Z.png\" width=\"400\" alt=\"Diagram of network architecture: BatchNorm, Dense, BatchNorm, Dropout, Dense, BatchNorm, Dropout, Dense.\">\n",
    "<figcaption style=\"textalign: center; font-style: italic\"><center>Diagram of a binary classifier.</center></figcaption>\n",
    "</figure>\n"
   ]
  },
  {
   "cell_type": "code",
   "execution_count": 7,
   "metadata": {
    "execution": {
     "iopub.execute_input": "2023-08-04T13:47:21.210896Z",
     "iopub.status.busy": "2023-08-04T13:47:21.210509Z",
     "iopub.status.idle": "2023-08-04T13:47:21.339700Z",
     "shell.execute_reply": "2023-08-04T13:47:21.338758Z",
     "shell.execute_reply.started": "2023-08-04T13:47:21.210855Z"
    },
    "lines_to_next_cell": 2
   },
   "outputs": [
    {
     "data": {
      "application/javascript": [
       "parent.postMessage({\"jupyterEvent\": \"custom.exercise_interaction\", \"data\": {\"outcomeType\": 1, \"valueTowardsCompletion\": 0.3333333333333333, \"interactionType\": 1, \"questionType\": 2, \"questionId\": \"1_Q1\", \"learnToolsVersion\": \"0.3.4\", \"failureMessage\": \"\", \"exceptionClass\": \"\", \"trace\": \"\"}}, \"*\")"
      ],
      "text/plain": [
       "<IPython.core.display.Javascript object>"
      ]
     },
     "metadata": {},
     "output_type": "display_data"
    },
    {
     "data": {
      "text/markdown": [
       "<span style=\"color:#33cc33\">Correct</span>"
      ],
      "text/plain": [
       "Correct"
      ]
     },
     "metadata": {},
     "output_type": "display_data"
    }
   ],
   "source": [
    "from tensorflow import keras\n",
    "from tensorflow.keras import layers\n",
    "\n",
    "# YOUR CODE HERE: define the model given in the diagram\n",
    "model = keras.Sequential([\n",
    "    layers.BatchNormalization(input_shape=input_shape),\n",
    "    layers.Dense(256 , activation=\"relu\"),\n",
    "    layers.BatchNormalization(),\n",
    "    layers.Dropout(0.3),\n",
    "    \n",
    "    layers.Dense(256 , activation=\"relu\"),\n",
    "    layers.BatchNormalization(),\n",
    "    layers.Dropout(0.3),\n",
    "    \n",
    "    layers.Dense(1  ,activation=\"sigmoid\")\n",
    "            \n",
    "\n",
    "])\n",
    "\n",
    "# Check your answer\n",
    "q_1.check()"
   ]
  },
  {
   "cell_type": "markdown",
   "metadata": {},
   "source": [
    "# 2) Add Optimizer, Loss, and Metric #\n",
    "\n",
    "Now compile the model with the Adam optimizer and binary versions of the cross-entropy loss and accuracy metric."
   ]
  },
  {
   "cell_type": "code",
   "execution_count": 8,
   "metadata": {
    "execution": {
     "iopub.execute_input": "2023-08-04T13:48:27.884402Z",
     "iopub.status.busy": "2023-08-04T13:48:27.884042Z",
     "iopub.status.idle": "2023-08-04T13:48:27.907390Z",
     "shell.execute_reply": "2023-08-04T13:48:27.906235Z",
     "shell.execute_reply.started": "2023-08-04T13:48:27.884371Z"
    },
    "lines_to_next_cell": 0
   },
   "outputs": [
    {
     "data": {
      "application/javascript": [
       "parent.postMessage({\"jupyterEvent\": \"custom.exercise_interaction\", \"data\": {\"outcomeType\": 1, \"valueTowardsCompletion\": 0.3333333333333333, \"interactionType\": 1, \"questionType\": 2, \"questionId\": \"2_Q2\", \"learnToolsVersion\": \"0.3.4\", \"failureMessage\": \"\", \"exceptionClass\": \"\", \"trace\": \"\"}}, \"*\")"
      ],
      "text/plain": [
       "<IPython.core.display.Javascript object>"
      ]
     },
     "metadata": {},
     "output_type": "display_data"
    },
    {
     "data": {
      "text/markdown": [
       "<span style=\"color:#33cc33\">Correct</span>"
      ],
      "text/plain": [
       "Correct"
      ]
     },
     "metadata": {},
     "output_type": "display_data"
    }
   ],
   "source": [
    "# YOUR CODE HERE\n",
    "model.compile(\n",
    "                 optimizer='adam',\n",
    "                \n",
    "             loss='binary_crossentropy',\n",
    "\n",
    "                 metrics=['binary_accuracy'])\n",
    "# Check your answer\n",
    "q_2.check()"
   ]
  },
  {
   "cell_type": "code",
   "execution_count": 9,
   "metadata": {
    "execution": {
     "iopub.execute_input": "2023-08-04T13:48:29.657444Z",
     "iopub.status.busy": "2023-08-04T13:48:29.656433Z",
     "iopub.status.idle": "2023-08-04T13:48:29.662168Z",
     "shell.execute_reply": "2023-08-04T13:48:29.661204Z",
     "shell.execute_reply.started": "2023-08-04T13:48:29.657401Z"
    },
    "lines_to_next_cell": 0
   },
   "outputs": [],
   "source": [
    "# Lines below will give you a hint or solution code\n",
    "#q_2.hint()\n",
    "#q_2.solution()"
   ]
  },
  {
   "cell_type": "markdown",
   "metadata": {},
   "source": [
    "Finally, run this cell to train the model and view the learning curves. It may run for around 60 to 70 epochs, which could take a minute or two."
   ]
  },
  {
   "cell_type": "code",
   "execution_count": 10,
   "metadata": {
    "execution": {
     "iopub.execute_input": "2023-08-04T13:48:32.822828Z",
     "iopub.status.busy": "2023-08-04T13:48:32.822453Z",
     "iopub.status.idle": "2023-08-04T13:49:12.907799Z",
     "shell.execute_reply": "2023-08-04T13:49:12.906754Z",
     "shell.execute_reply.started": "2023-08-04T13:48:32.822796Z"
    }
   },
   "outputs": [
    {
     "name": "stdout",
     "output_type": "stream",
     "text": [
      "Epoch 1/200\n",
      "175/175 [==============================] - 7s 7ms/step - loss: 0.4818 - binary_accuracy: 0.7687 - val_loss: 0.4335 - val_binary_accuracy: 0.7960\n",
      "Epoch 2/200\n",
      "175/175 [==============================] - 1s 6ms/step - loss: 0.4223 - binary_accuracy: 0.8012 - val_loss: 0.4032 - val_binary_accuracy: 0.8134\n",
      "Epoch 3/200\n",
      "175/175 [==============================] - 1s 6ms/step - loss: 0.4082 - binary_accuracy: 0.8078 - val_loss: 0.3951 - val_binary_accuracy: 0.8168\n",
      "Epoch 4/200\n",
      "175/175 [==============================] - 1s 6ms/step - loss: 0.4025 - binary_accuracy: 0.8118 - val_loss: 0.3906 - val_binary_accuracy: 0.8211\n",
      "Epoch 5/200\n",
      "175/175 [==============================] - 1s 8ms/step - loss: 0.3950 - binary_accuracy: 0.8164 - val_loss: 0.3875 - val_binary_accuracy: 0.8232\n",
      "Epoch 6/200\n",
      "175/175 [==============================] - 1s 7ms/step - loss: 0.3923 - binary_accuracy: 0.8171 - val_loss: 0.3843 - val_binary_accuracy: 0.8251\n",
      "Epoch 7/200\n",
      "175/175 [==============================] - 1s 7ms/step - loss: 0.3882 - binary_accuracy: 0.8202 - val_loss: 0.3813 - val_binary_accuracy: 0.8246\n",
      "Epoch 8/200\n",
      "175/175 [==============================] - 1s 6ms/step - loss: 0.3850 - binary_accuracy: 0.8202 - val_loss: 0.3854 - val_binary_accuracy: 0.8256\n",
      "Epoch 9/200\n",
      "175/175 [==============================] - 1s 7ms/step - loss: 0.3805 - binary_accuracy: 0.8245 - val_loss: 0.3775 - val_binary_accuracy: 0.8277\n",
      "Epoch 10/200\n",
      "175/175 [==============================] - 1s 6ms/step - loss: 0.3778 - binary_accuracy: 0.8252 - val_loss: 0.3798 - val_binary_accuracy: 0.8255\n",
      "Epoch 11/200\n",
      "175/175 [==============================] - 1s 6ms/step - loss: 0.3764 - binary_accuracy: 0.8255 - val_loss: 0.3719 - val_binary_accuracy: 0.8319\n",
      "Epoch 12/200\n",
      "175/175 [==============================] - 1s 6ms/step - loss: 0.3729 - binary_accuracy: 0.8271 - val_loss: 0.3748 - val_binary_accuracy: 0.8284\n",
      "Epoch 13/200\n",
      "175/175 [==============================] - 1s 6ms/step - loss: 0.3711 - binary_accuracy: 0.8285 - val_loss: 0.3724 - val_binary_accuracy: 0.8314\n",
      "Epoch 14/200\n",
      "175/175 [==============================] - 1s 6ms/step - loss: 0.3686 - binary_accuracy: 0.8294 - val_loss: 0.3701 - val_binary_accuracy: 0.8298\n",
      "Epoch 15/200\n",
      "175/175 [==============================] - 1s 6ms/step - loss: 0.3669 - binary_accuracy: 0.8307 - val_loss: 0.3672 - val_binary_accuracy: 0.8307\n",
      "Epoch 16/200\n",
      "175/175 [==============================] - 1s 7ms/step - loss: 0.3639 - binary_accuracy: 0.8303 - val_loss: 0.3657 - val_binary_accuracy: 0.8336\n",
      "Epoch 17/200\n",
      "175/175 [==============================] - 1s 6ms/step - loss: 0.3623 - binary_accuracy: 0.8330 - val_loss: 0.3644 - val_binary_accuracy: 0.8332\n",
      "Epoch 18/200\n",
      "175/175 [==============================] - 1s 6ms/step - loss: 0.3606 - binary_accuracy: 0.8326 - val_loss: 0.3647 - val_binary_accuracy: 0.8347\n",
      "Epoch 19/200\n",
      "175/175 [==============================] - 1s 6ms/step - loss: 0.3596 - binary_accuracy: 0.8331 - val_loss: 0.3639 - val_binary_accuracy: 0.8353\n",
      "Epoch 20/200\n",
      "175/175 [==============================] - 1s 6ms/step - loss: 0.3572 - binary_accuracy: 0.8349 - val_loss: 0.3645 - val_binary_accuracy: 0.8342\n",
      "Epoch 21/200\n",
      "175/175 [==============================] - 1s 6ms/step - loss: 0.3571 - binary_accuracy: 0.8348 - val_loss: 0.3628 - val_binary_accuracy: 0.8349\n",
      "Epoch 22/200\n",
      "175/175 [==============================] - 1s 6ms/step - loss: 0.3534 - binary_accuracy: 0.8364 - val_loss: 0.3593 - val_binary_accuracy: 0.8347\n",
      "Epoch 23/200\n",
      "175/175 [==============================] - 1s 6ms/step - loss: 0.3521 - binary_accuracy: 0.8372 - val_loss: 0.3607 - val_binary_accuracy: 0.8338\n",
      "Epoch 24/200\n",
      "175/175 [==============================] - 1s 6ms/step - loss: 0.3529 - binary_accuracy: 0.8380 - val_loss: 0.3580 - val_binary_accuracy: 0.8347\n",
      "Epoch 25/200\n",
      "175/175 [==============================] - 1s 6ms/step - loss: 0.3503 - binary_accuracy: 0.8392 - val_loss: 0.3591 - val_binary_accuracy: 0.8362\n",
      "Epoch 26/200\n",
      "175/175 [==============================] - 1s 6ms/step - loss: 0.3496 - binary_accuracy: 0.8391 - val_loss: 0.3594 - val_binary_accuracy: 0.8355\n",
      "Epoch 27/200\n",
      "175/175 [==============================] - 1s 6ms/step - loss: 0.3488 - binary_accuracy: 0.8387 - val_loss: 0.3588 - val_binary_accuracy: 0.8356\n",
      "Epoch 28/200\n",
      "175/175 [==============================] - 1s 6ms/step - loss: 0.3476 - binary_accuracy: 0.8392 - val_loss: 0.3576 - val_binary_accuracy: 0.8366\n",
      "Epoch 29/200\n",
      "175/175 [==============================] - 1s 6ms/step - loss: 0.3486 - binary_accuracy: 0.8379 - val_loss: 0.3576 - val_binary_accuracy: 0.8363\n"
     ]
    },
    {
     "data": {
      "text/plain": [
       "<Axes: title={'center': 'Accuracy'}>"
      ]
     },
     "execution_count": 10,
     "metadata": {},
     "output_type": "execute_result"
    },
    {
     "data": {
      "image/png": "[encoded data removed]",
      "text/plain": [
       "<Figure size 640x480 with 1 Axes>"
      ]
     },
     "metadata": {},
     "output_type": "display_data"
    },
    {
     "data": {
      "image/png": "[encoded data removed]",
      "text/plain": [
       "<Figure size 640x480 with 1 Axes>"
      ]
     },
     "metadata": {},
     "output_type": "display_data"
    }
   ],
   "source": [
    "early_stopping = keras.callbacks.EarlyStopping(\n",
    "    patience=5,\n",
    "    min_delta=0.001,\n",
    "    restore_best_weights=True,\n",
    ")\n",
    "history = model.fit(\n",
    "    X_train, y_train,\n",
    "    validation_data=(X_valid, y_valid),\n",
    "    batch_size=512,\n",
    "    epochs=200,\n",
    "    callbacks=[early_stopping],\n",
    ")\n",
    "\n",
    "history_df = pd.DataFrame(history.history)\n",
    "history_df.loc[:, ['loss', 'val_loss']].plot(title=\"Cross-entropy\")\n",
    "history_df.loc[:, ['binary_accuracy', 'val_binary_accuracy']].plot(title=\"Accuracy\")"
   ]
  },
  {
   "cell_type": "markdown",
   "metadata": {},
   "source": [
    "# 3) Train and Evaluate #\n",
    "\n",
    "\n",
    "What do you think about the learning curves? Does it look like the model underfit or overfit? Was the cross-entropy loss a good stand-in for accuracy?"
   ]
  },
  {
   "cell_type": "code",
   "execution_count": 11,
   "metadata": {
    "execution": {
     "iopub.execute_input": "2023-08-04T13:49:51.381790Z",
     "iopub.status.busy": "2023-08-04T13:49:51.380729Z",
     "iopub.status.idle": "2023-08-04T13:49:51.392643Z",
     "shell.execute_reply": "2023-08-04T13:49:51.391597Z",
     "shell.execute_reply.started": "2023-08-04T13:49:51.381745Z"
    }
   },
   "outputs": [
    {
     "data": {
      "application/javascript": [
       "parent.postMessage({\"jupyterEvent\": \"custom.exercise_interaction\", \"data\": {\"outcomeType\": 1, \"valueTowardsCompletion\": 0.3333333333333333, \"interactionType\": 1, \"questionType\": 4, \"questionId\": \"3_Q3\", \"learnToolsVersion\": \"0.3.4\", \"failureMessage\": \"\", \"exceptionClass\": \"\", \"trace\": \"\"}}, \"*\")"
      ],
      "text/plain": [
       "<IPython.core.display.Javascript object>"
      ]
     },
     "metadata": {},
     "output_type": "display_data"
    },
    {
     "data": {
      "text/markdown": [
       "<span style=\"color:#33cc33\">Correct:</span> \n",
       "\n",
       "Though we can see the training loss continuing to fall, the early stopping callback prevented any overfitting. Moreover, the accuracy rose at the same rate as the cross-entropy fell, so it appears that minimizing cross-entropy was a good stand-in. All in all, it looks like this training was a success!"
      ],
      "text/plain": [
       "Correct: \n",
       "\n",
       "Though we can see the training loss continuing to fall, the early stopping callback prevented any overfitting. Moreover, the accuracy rose at the same rate as the cross-entropy fell, so it appears that minimizing cross-entropy was a good stand-in. All in all, it looks like this training was a success!"
      ]
     },
     "metadata": {},
     "output_type": "display_data"
    }
   ],
   "source": [
    "# View the solution (Run this cell to receive credit!)\n",
    "q_3.check()"
   ]
  },
  {
   "cell_type": "markdown",
   "metadata": {},
   "source": [
    "# Conclusion #\n",
    "\n",
    "Congratulations! You've completed Kaggle's *Introduction to Deep Learning* course!\n",
    "\n",
    "With your new skills you're ready to take on more advanced applications like computer vision and sentiment classification. What would you like to do next?\n",
    "\n",
    "Why not try one of our *Getting Started* competitions?\n",
    "\n",
    "- Classify images with TPUs in [**Petals to the Metal**](https://www.kaggle.com/c/tpu-getting-started)\n",
    "- Create art with GANs in [**I'm Something of a Painter Myself**](https://www.kaggle.com/c/gan-getting-started)\n",
    "- Classify Tweets in [**Real or Not? NLP with Disaster Tweets**](https://www.kaggle.com/c/nlp-getting-started)\n",
    "- Detect contradiction and entailment in [**Contradictory, My Dear Watson**](https://www.kaggle.com/c/contradictory-my-dear-watson)\n",
    "\n",
    "Until next time, Kagglers!"
   ]
  },
  {
   "cell_type": "markdown",
   "metadata": {},
   "source": [
    "---\n",
    "\n",
    "\n",
    "\n",
    "\n",
    "*Have questions or comments? Visit the [course discussion forum](https://www.kaggle.com/learn/intro-to-deep-learning/discussion) to chat with other learners.*"
   ]
  }
 ],
 "metadata": {
  "jupytext": {
   "cell_metadata_filter": "-all",
   "formats": "ipynb"
  },
  "kernelspec": {
   "display_name": "Python 3 (ipykernel)",
   "language": "python",
   "name": "python3"
  },
  "language_info": {
   "codemirror_mode": {
    "name": "ipython",
    "version": 3
   },
   "file_extension": ".py",
   "mimetype": "text/x-python",
   "name": "python",
   "nbconvert_exporter": "python",
   "pygments_lexer": "ipython3",
   "version": "3.9.13"
  }
 },
 "nbformat": 4,
 "nbformat_minor": 4
}
