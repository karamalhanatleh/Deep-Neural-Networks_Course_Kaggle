{
 "cells": [
  {
   "cell_type": "markdown",
   "id": "872bec9c",
   "metadata": {},
   "source": [
    "# A Single Neuron\n"
   ]
  },
  {
   "cell_type": "code",
   "execution_count": 3,
   "id": "0b0633f7",
   "metadata": {},
   "outputs": [],
   "source": [
    "#import \n",
    "from tensorflow import keras   \n",
    "from tensorflow.keras import layers"
   ]
  },
  {
   "cell_type": "code",
   "execution_count": 4,
   "id": "66f83a6e",
   "metadata": {},
   "outputs": [],
   "source": [
    "# Create a network with 1 linear unit\n",
    "model = keras.Sequential([\n",
    "    layers.Dense(units=1 ,  input_shape =[3])\n",
    "])"
   ]
  },
  {
   "cell_type": "code",
   "execution_count": null,
   "id": "8a9282fe",
   "metadata": {},
   "outputs": [],
   "source": []
  }
 ],
 "metadata": {
  "kernelspec": {
   "display_name": "Python 3 (ipykernel)",
   "language": "python",
   "name": "python3"
  },
  "language_info": {
   "codemirror_mode": {
    "name": "ipython",
    "version": 3
   },
   "file_extension": ".py",
   "mimetype": "text/x-python",
   "name": "python",
   "nbconvert_exporter": "python",
   "pygments_lexer": "ipython3",
   "version": "3.9.13"
  }
 },
 "nbformat": 4,
 "nbformat_minor": 5
}
